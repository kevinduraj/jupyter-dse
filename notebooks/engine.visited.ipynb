{
 "cells": [
  {
   "cell_type": "code",
   "execution_count": 1,
   "metadata": {
    "collapsed": false
   },
   "outputs": [
    {
     "data": {
      "text/html": [
       "<b>engine.domain</b><table><tr><td>root</td><td>VarCharType</td><td>partition key</td></tr><tr><td>count</td><td>CounterType</td><td></td></tr></table><b>engine.visited</b><table><tr><td>url</td><td>VarCharType</td><td>partition key</td></tr></table><b>engine.links</b><table><tr><td>domain</td><td>VarCharType</td><td>partition key</td></tr><tr><td>url</td><td>VarCharType</td><td>cluster key 0</td></tr></table>"
      ]
     },
     "execution_count": 1,
     "metadata": {},
     "output_type": "execute_result"
    }
   ],
   "source": [
    "%%showschema engine"
   ]
  },
  {
   "cell_type": "code",
   "execution_count": 2,
   "metadata": {
    "collapsed": false
   },
   "outputs": [
    {
     "data": {
      "text/html": [
       "<b>engine.domain</b><table><tr><td>root</td><td>VarCharType</td><td>partition key</td></tr><tr><td>count</td><td>CounterType</td><td></td></tr></table><b>engine.visited</b><table><tr><td>url</td><td>VarCharType</td><td>partition key</td></tr></table><b>engine.links</b><table><tr><td>domain</td><td>VarCharType</td><td>partition key</td></tr><tr><td>url</td><td>VarCharType</td><td>cluster key 0</td></tr></table>"
      ]
     },
     "execution_count": 2,
     "metadata": {},
     "output_type": "execute_result"
    }
   ],
   "source": [
    "case class Links (\n",
    "    url: String\n",
    ")"
   ]
  },
  {
   "cell_type": "code",
   "execution_count": 3,
   "metadata": {
    "collapsed": true
   },
   "outputs": [],
   "source": [
    "var links = sc.cassandraTable[Links](\"engine\",\"visited\").select(\"url\")"
   ]
  },
  {
   "cell_type": "code",
   "execution_count": 5,
   "metadata": {
    "collapsed": false
   },
   "outputs": [
    {
     "data": {
      "text/plain": [
       "Long = 188277930"
      ]
     },
     "execution_count": 5,
     "metadata": {},
     "output_type": "execute_result"
    }
   ],
   "source": [
    "links.count()"
   ]
  },
  {
   "cell_type": "code",
   "execution_count": 4,
   "metadata": {
    "collapsed": false
   },
   "outputs": [
    {
     "data": {
      "text/plain": [
       "Name: Compile Error\n",
       "Message: <console>:22: error: value contains is not a member of Links\n",
       "              links.filter(line => line.contains(\"health\")).count()\n",
       "                                        ^\n",
       "StackTrace: "
      ]
     },
     "execution_count": 4,
     "metadata": {},
     "output_type": "execute_result"
    }
   ],
   "source": [
    "links.filter(line => line.contains(\"health\")).count() "
   ]
  },
  {
   "cell_type": "code",
   "execution_count": null,
   "metadata": {
    "collapsed": true
   },
   "outputs": [],
   "source": []
  }
 ],
 "metadata": {
  "kernelspec": {
   "display_name": "Spark-DSE Local",
   "language": "scala",
   "name": "spark-dse-local"
  },
  "language_info": {
   "name": "scala"
  }
 },
 "nbformat": 4,
 "nbformat_minor": 0
}

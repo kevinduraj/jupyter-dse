{
 "cells": [
  {
   "cell_type": "code",
   "execution_count": 1,
   "metadata": {
    "collapsed": false
   },
   "outputs": [
    {
     "data": {
      "text/html": [
       "<b>engine.domain</b><table><tr><td>root</td><td>VarCharType</td><td>partition key</td></tr><tr><td>count</td><td>CounterType</td><td></td></tr></table><b>engine.visited</b><table><tr><td>url</td><td>VarCharType</td><td>partition key</td></tr></table><b>engine.links</b><table><tr><td>domain</td><td>VarCharType</td><td>partition key</td></tr><tr><td>url</td><td>VarCharType</td><td>cluster key 0</td></tr></table>"
      ]
     },
     "execution_count": 1,
     "metadata": {},
     "output_type": "execute_result"
    }
   ],
   "source": [
    "%%showschema engine"
   ]
  },
  {
   "cell_type": "code",
   "execution_count": 2,
   "metadata": {
    "collapsed": false
   },
   "outputs": [
    {
     "data": {
      "text/html": [
       "<b>engine.domain</b><table><tr><td>root</td><td>VarCharType</td><td>partition key</td></tr><tr><td>count</td><td>CounterType</td><td></td></tr></table><b>engine.visited</b><table><tr><td>url</td><td>VarCharType</td><td>partition key</td></tr></table><b>engine.links</b><table><tr><td>domain</td><td>VarCharType</td><td>partition key</td></tr><tr><td>url</td><td>VarCharType</td><td>cluster key 0</td></tr></table>"
      ]
     },
     "execution_count": 2,
     "metadata": {},
     "output_type": "execute_result"
    }
   ],
   "source": [
    "case class Links (\n",
    "    url: String\n",
    ")"
   ]
  },
  {
   "cell_type": "code",
   "execution_count": 8,
   "metadata": {
    "collapsed": true
   },
   "outputs": [],
   "source": [
    "var links = sc.cassandraTable[Links](\"engine\",\"visited\").select(\"url\")"
   ]
  },
  {
   "cell_type": "code",
   "execution_count": 9,
   "metadata": {
    "collapsed": false
   },
   "outputs": [],
   "source": [
    "links.count()"
   ]
  },
  {
   "cell_type": "code",
   "execution_count": null,
   "metadata": {
    "collapsed": true
   },
   "outputs": [],
   "source": []
  }
 ],
 "metadata": {
  "kernelspec": {
   "display_name": "Spark-DSE Local",
   "language": "scala",
   "name": "spark-dse-local"
  },
  "language_info": {
   "name": "scala"
  }
 },
 "nbformat": 4,
 "nbformat_minor": 0
}
